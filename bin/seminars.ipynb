{
 "cells": [
  {
   "cell_type": "code",
   "execution_count": 6,
   "metadata": {},
   "outputs": [],
   "source": [
    "import pandas as pd\n",
    "from datetime import datetime"
   ]
  },
  {
   "cell_type": "code",
   "execution_count": 51,
   "metadata": {},
   "outputs": [],
   "source": [
    "def changeDate(date_time_str):\n",
    "    r = date_time_str\n",
    "    if date_time_str.find(\"/\") != -1:\n",
    "        day,month,year = date_time_str.split(\"/\")\n",
    "        if len(day) == 1:\n",
    "            day = \"0\" + day\n",
    "        if len(month) == 1:\n",
    "            month = \"0\" + month\n",
    "        date_time_str = day + \"/\" + month + \"/\" + year\n",
    "        date_time_obj = datetime.strptime(date_time_str, '%m/%d/%Y')\n",
    "        r = date_time_obj.strftime(\"%A %d %b %Y\")\n",
    "    return(r)\n"
   ]
  },
  {
   "cell_type": "code",
   "execution_count": 2,
   "metadata": {},
   "outputs": [],
   "source": [
    "data_url =\"https://docs.google.com/spreadsheets/d/e/2PACX-1vT-1hbZ9phjvuPZ69h-dVa6gYtGjvAUr1QFxCgmx9CSvug49eFgHzOwLvQBQEJdbSYREmU1UlNOQHoq/pub?gid=137863374&single=true&output=csv\""
   ]
  },
  {
   "cell_type": "code",
   "execution_count": 3,
   "metadata": {},
   "outputs": [],
   "source": [
    "seminars = pd.read_csv(data_url)"
   ]
  },
  {
   "cell_type": "code",
   "execution_count": 54,
   "metadata": {},
   "outputs": [],
   "source": [
    "seminars.date = seminars.date.apply(changeDate)"
   ]
  },
  {
   "cell_type": "code",
   "execution_count": 56,
   "metadata": {},
   "outputs": [],
   "source": [
    "del seminars['Timestamp']"
   ]
  },
  {
   "cell_type": "code",
   "execution_count": 59,
   "metadata": {},
   "outputs": [],
   "source": [
    "seminars.to_csv(\"../docs/_data/seminars.csv\", index=False)\n"
   ]
  }
 ],
 "metadata": {
  "interpreter": {
   "hash": "767d51c1340bd893661ea55ea3124f6de3c7a262a8b4abca0554b478b1e2ff90"
  },
  "kernelspec": {
   "display_name": "Python 3.9.7 64-bit",
   "language": "python",
   "name": "python3"
  },
  "language_info": {
   "codemirror_mode": {
    "name": "ipython",
    "version": 3
   },
   "file_extension": ".py",
   "mimetype": "text/x-python",
   "name": "python",
   "nbconvert_exporter": "python",
   "pygments_lexer": "ipython3",
   "version": "3.9.7"
  },
  "orig_nbformat": 4
 },
 "nbformat": 4,
 "nbformat_minor": 2
}
